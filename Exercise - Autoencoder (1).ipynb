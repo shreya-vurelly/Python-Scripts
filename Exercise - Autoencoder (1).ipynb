{
 "cells": [
  {
   "cell_type": "markdown",
   "metadata": {},
   "source": [
    "# Exercise - Autoencoder"
   ]
  },
  {
   "cell_type": "markdown",
   "metadata": {},
   "source": [
    "The data set for this exercise is from the banking industry. It contains data about the home loans of 2,500 bank clients. Each row represents a single loan. The columns include the characteristics of the client who used a loan. We will build an autoencoder to learn the representation of good loans. That way, we can see if an unknown loan will be a good or bad loan based on its reconstruction error.  \n",
    "\n",
    "Note: in the data set, we don't have a column that indicates whether a loan is \"good\" or \"bad\". So, we can't train a classification model like we did before."
   ]
  },
  {
   "cell_type": "markdown",
   "metadata": {},
   "source": [
    "## Description of Variables\n",
    "\n",
    "The description of variables are provided in \"Loan - Data Dictionary.docx\""
   ]
  },
  {
   "cell_type": "markdown",
   "metadata": {},
   "source": [
    "# Read and Prepare the Data"
   ]
  },
  {
   "cell_type": "code",
   "execution_count": 1,
   "metadata": {},
   "outputs": [],
   "source": [
    "# Common imports\n",
    "\n",
    "import pandas as pd\n",
    "import numpy as np\n",
    "\n",
    "np.random.seed(42)"
   ]
  },
  {
   "cell_type": "markdown",
   "metadata": {},
   "source": [
    "# Get the data"
   ]
  },
  {
   "cell_type": "code",
   "execution_count": 2,
   "metadata": {},
   "outputs": [],
   "source": [
    "good = pd.read_csv('good loans.csv')\n",
    "\n",
    "unknown = pd.read_csv('unknown loans.csv')"
   ]
  },
  {
   "cell_type": "code",
   "execution_count": 3,
   "metadata": {},
   "outputs": [
    {
     "data": {
      "text/html": [
       "<div>\n",
       "<style scoped>\n",
       "    .dataframe tbody tr th:only-of-type {\n",
       "        vertical-align: middle;\n",
       "    }\n",
       "\n",
       "    .dataframe tbody tr th {\n",
       "        vertical-align: top;\n",
       "    }\n",
       "\n",
       "    .dataframe thead th {\n",
       "        text-align: right;\n",
       "    }\n",
       "</style>\n",
       "<table border=\"1\" class=\"dataframe\">\n",
       "  <thead>\n",
       "    <tr style=\"text-align: right;\">\n",
       "      <th></th>\n",
       "      <th>LOAN</th>\n",
       "      <th>MORTDUE</th>\n",
       "      <th>VALUE</th>\n",
       "      <th>REASON</th>\n",
       "      <th>JOB</th>\n",
       "      <th>YOJ</th>\n",
       "      <th>DEROG</th>\n",
       "      <th>DELINQ</th>\n",
       "      <th>CLAGE</th>\n",
       "      <th>NINQ</th>\n",
       "      <th>CLNO</th>\n",
       "      <th>DEBTINC</th>\n",
       "    </tr>\n",
       "  </thead>\n",
       "  <tbody>\n",
       "    <tr>\n",
       "      <th>0</th>\n",
       "      <td>25900</td>\n",
       "      <td>61064.0</td>\n",
       "      <td>94714.0</td>\n",
       "      <td>DebtCon</td>\n",
       "      <td>Office</td>\n",
       "      <td>2.0</td>\n",
       "      <td>0.0</td>\n",
       "      <td>0.0</td>\n",
       "      <td>98.809375</td>\n",
       "      <td>0.0</td>\n",
       "      <td>23.0</td>\n",
       "      <td>34.565944</td>\n",
       "    </tr>\n",
       "    <tr>\n",
       "      <th>1</th>\n",
       "      <td>26100</td>\n",
       "      <td>113266.0</td>\n",
       "      <td>182082.0</td>\n",
       "      <td>DebtCon</td>\n",
       "      <td>Sales</td>\n",
       "      <td>18.0</td>\n",
       "      <td>0.0</td>\n",
       "      <td>0.0</td>\n",
       "      <td>304.852469</td>\n",
       "      <td>1.0</td>\n",
       "      <td>31.0</td>\n",
       "      <td>33.193949</td>\n",
       "    </tr>\n",
       "    <tr>\n",
       "      <th>2</th>\n",
       "      <td>20900</td>\n",
       "      <td>62615.0</td>\n",
       "      <td>87904.0</td>\n",
       "      <td>DebtCon</td>\n",
       "      <td>Office</td>\n",
       "      <td>5.0</td>\n",
       "      <td>NaN</td>\n",
       "      <td>NaN</td>\n",
       "      <td>177.864849</td>\n",
       "      <td>NaN</td>\n",
       "      <td>15.0</td>\n",
       "      <td>36.831076</td>\n",
       "    </tr>\n",
       "    <tr>\n",
       "      <th>3</th>\n",
       "      <td>25300</td>\n",
       "      <td>62540.0</td>\n",
       "      <td>101165.0</td>\n",
       "      <td>DebtCon</td>\n",
       "      <td>ProfExe</td>\n",
       "      <td>0.0</td>\n",
       "      <td>0.0</td>\n",
       "      <td>0.0</td>\n",
       "      <td>195.451331</td>\n",
       "      <td>0.0</td>\n",
       "      <td>25.0</td>\n",
       "      <td>35.200865</td>\n",
       "    </tr>\n",
       "    <tr>\n",
       "      <th>4</th>\n",
       "      <td>27700</td>\n",
       "      <td>73148.0</td>\n",
       "      <td>101462.0</td>\n",
       "      <td>DebtCon</td>\n",
       "      <td>ProfExe</td>\n",
       "      <td>10.0</td>\n",
       "      <td>0.0</td>\n",
       "      <td>0.0</td>\n",
       "      <td>264.605389</td>\n",
       "      <td>0.0</td>\n",
       "      <td>33.0</td>\n",
       "      <td>40.475793</td>\n",
       "    </tr>\n",
       "  </tbody>\n",
       "</table>\n",
       "</div>"
      ],
      "text/plain": [
       "    LOAN   MORTDUE     VALUE   REASON      JOB   YOJ  DEROG  DELINQ  \\\n",
       "0  25900   61064.0   94714.0  DebtCon   Office   2.0    0.0     0.0   \n",
       "1  26100  113266.0  182082.0  DebtCon    Sales  18.0    0.0     0.0   \n",
       "2  20900   62615.0   87904.0  DebtCon   Office   5.0    NaN     NaN   \n",
       "3  25300   62540.0  101165.0  DebtCon  ProfExe   0.0    0.0     0.0   \n",
       "4  27700   73148.0  101462.0  DebtCon  ProfExe  10.0    0.0     0.0   \n",
       "\n",
       "        CLAGE  NINQ  CLNO    DEBTINC  \n",
       "0   98.809375   0.0  23.0  34.565944  \n",
       "1  304.852469   1.0  31.0  33.193949  \n",
       "2  177.864849   NaN  15.0  36.831076  \n",
       "3  195.451331   0.0  25.0  35.200865  \n",
       "4  264.605389   0.0  33.0  40.475793  "
      ]
     },
     "execution_count": 3,
     "metadata": {},
     "output_type": "execute_result"
    }
   ],
   "source": [
    "# Note that there is no GOOD/BAD classification. Though, we know that\n",
    "# these loans are good\n",
    "\n",
    "good.head()"
   ]
  },
  {
   "cell_type": "code",
   "execution_count": 4,
   "metadata": {},
   "outputs": [
    {
     "data": {
      "text/plain": [
       "(1489, 12)"
      ]
     },
     "execution_count": 4,
     "metadata": {},
     "output_type": "execute_result"
    }
   ],
   "source": [
    "good.shape"
   ]
  },
  {
   "cell_type": "code",
   "execution_count": 5,
   "metadata": {},
   "outputs": [
    {
     "data": {
      "text/plain": [
       "(1011, 12)"
      ]
     },
     "execution_count": 5,
     "metadata": {},
     "output_type": "execute_result"
    }
   ],
   "source": [
    "unknown.shape"
   ]
  },
  {
   "cell_type": "markdown",
   "metadata": {},
   "source": [
    "# Data Prep"
   ]
  },
  {
   "cell_type": "code",
   "execution_count": 6,
   "metadata": {},
   "outputs": [],
   "source": [
    "from sklearn.compose import ColumnTransformer\n",
    "from sklearn.pipeline import Pipeline\n",
    "from sklearn.impute import SimpleImputer\n",
    "from sklearn.preprocessing import StandardScaler\n",
    "from sklearn.preprocessing import OneHotEncoder"
   ]
  },
  {
   "cell_type": "markdown",
   "metadata": {},
   "source": [
    "##  Identify the numeric, binary, and categorical columns"
   ]
  },
  {
   "cell_type": "code",
   "execution_count": 7,
   "metadata": {},
   "outputs": [],
   "source": [
    "# Identify the numerical columns\n",
    "numeric_columns = good.select_dtypes(include=[np.number]).columns.to_list()\n",
    "\n",
    "# Identify the categorical columns\n",
    "categorical_columns = good.select_dtypes('object').columns.to_list()"
   ]
  },
  {
   "cell_type": "code",
   "execution_count": 8,
   "metadata": {},
   "outputs": [
    {
     "data": {
      "text/plain": [
       "['LOAN',\n",
       " 'MORTDUE',\n",
       " 'VALUE',\n",
       " 'YOJ',\n",
       " 'DEROG',\n",
       " 'DELINQ',\n",
       " 'CLAGE',\n",
       " 'NINQ',\n",
       " 'CLNO',\n",
       " 'DEBTINC']"
      ]
     },
     "execution_count": 8,
     "metadata": {},
     "output_type": "execute_result"
    }
   ],
   "source": [
    "numeric_columns"
   ]
  },
  {
   "cell_type": "code",
   "execution_count": 9,
   "metadata": {},
   "outputs": [
    {
     "data": {
      "text/plain": [
       "['REASON', 'JOB']"
      ]
     },
     "execution_count": 9,
     "metadata": {},
     "output_type": "execute_result"
    }
   ],
   "source": [
    "categorical_columns"
   ]
  },
  {
   "cell_type": "markdown",
   "metadata": {},
   "source": [
    "# Pipeline"
   ]
  },
  {
   "cell_type": "code",
   "execution_count": 10,
   "metadata": {},
   "outputs": [],
   "source": [
    "numeric_transformer = Pipeline(steps=[\n",
    "                ('imputer', SimpleImputer(strategy='median')),\n",
    "                ('scaler', StandardScaler())])"
   ]
  },
  {
   "cell_type": "code",
   "execution_count": 11,
   "metadata": {},
   "outputs": [],
   "source": [
    "categorical_transformer = Pipeline(steps=[\n",
    "    ('imputer', SimpleImputer(strategy='constant', fill_value='unknown')),\n",
    "    ('onehot', OneHotEncoder(handle_unknown='ignore'))])"
   ]
  },
  {
   "cell_type": "code",
   "execution_count": 12,
   "metadata": {},
   "outputs": [],
   "source": [
    "preprocessor = ColumnTransformer([\n",
    "        ('num', numeric_transformer, numeric_columns),\n",
    "        ('cat', categorical_transformer, categorical_columns)],   \n",
    "        remainder='passthrough')\n",
    "\n",
    "#passtrough is an optional step. You don't have to use it."
   ]
  },
  {
   "cell_type": "markdown",
   "metadata": {},
   "source": [
    "# Transform: fit_transform() for GOOD"
   ]
  },
  {
   "cell_type": "code",
   "execution_count": 13,
   "metadata": {},
   "outputs": [
    {
     "data": {
      "text/plain": [
       "array([[ 0.6365782 , -0.29793911, -0.12177109, ...,  0.        ,\n",
       "         0.        ,  0.        ],\n",
       "       [ 0.6546228 ,  1.02893596,  1.62034212, ...,  1.        ,\n",
       "         0.        ,  0.        ],\n",
       "       [ 0.18546313, -0.25851565, -0.25756212, ...,  0.        ,\n",
       "         0.        ,  0.        ],\n",
       "       ...,\n",
       "       [ 4.18234262, -0.04383447,  0.81444926, ...,  0.        ,\n",
       "         0.        ,  0.        ],\n",
       "       [-1.30321659, -0.47828045, -0.73681873, ...,  0.        ,\n",
       "         0.        ,  0.        ],\n",
       "       [ 0.03208401, -0.46521555, -0.38146895, ...,  0.        ,\n",
       "         0.        ,  0.        ]])"
      ]
     },
     "execution_count": 13,
     "metadata": {},
     "output_type": "execute_result"
    }
   ],
   "source": [
    "#Fit and transform the train data\n",
    "good_x = preprocessor.fit_transform(good)\n",
    "\n",
    "good_x"
   ]
  },
  {
   "cell_type": "code",
   "execution_count": 14,
   "metadata": {},
   "outputs": [
    {
     "data": {
      "text/plain": [
       "(1489, 20)"
      ]
     },
     "execution_count": 14,
     "metadata": {},
     "output_type": "execute_result"
    }
   ],
   "source": [
    "good_x.shape"
   ]
  },
  {
   "cell_type": "markdown",
   "metadata": {},
   "source": [
    "# Tranform: transform() for UNKNOWN"
   ]
  },
  {
   "cell_type": "code",
   "execution_count": 15,
   "metadata": {},
   "outputs": [
    {
     "data": {
      "text/plain": [
       "array([[ 2.81095281,  3.755331  ,  3.98956663, ...,  0.        ,\n",
       "         1.        ,  0.        ],\n",
       "       [ 0.32079765, -0.54180025, -0.65167516, ...,  0.        ,\n",
       "         0.        ,  0.        ],\n",
       "       [ 0.19448543,  0.59006724,  0.48213012, ...,  1.        ,\n",
       "         0.        ,  0.        ],\n",
       "       ...,\n",
       "       [-0.79796772,  0.05628738,  0.05541527, ...,  0.        ,\n",
       "         0.        ,  0.        ],\n",
       "       [-0.16640662, -0.510536  , -0.45504735, ...,  0.        ,\n",
       "         0.        ,  0.        ],\n",
       "       [-0.81601232, -0.92230904, -0.93360606, ...,  0.        ,\n",
       "         0.        ,  0.        ]])"
      ]
     },
     "execution_count": 15,
     "metadata": {},
     "output_type": "execute_result"
    }
   ],
   "source": [
    "# Transform the test data\n",
    "unknown_x = preprocessor.transform(unknown)\n",
    "\n",
    "unknown_x"
   ]
  },
  {
   "cell_type": "code",
   "execution_count": 16,
   "metadata": {},
   "outputs": [
    {
     "data": {
      "text/plain": [
       "(1011, 20)"
      ]
     },
     "execution_count": 16,
     "metadata": {},
     "output_type": "execute_result"
    }
   ],
   "source": [
    "unknown_x.shape"
   ]
  },
  {
   "cell_type": "markdown",
   "metadata": {},
   "source": [
    "# Build an Autoencoder to learn the representation of GOOD loans"
   ]
  },
  {
   "cell_type": "code",
   "execution_count": 17,
   "metadata": {},
   "outputs": [],
   "source": [
    "import tensorflow as tf\n",
    "from tensorflow import keras"
   ]
  },
  {
   "cell_type": "code",
   "execution_count": 18,
   "metadata": {},
   "outputs": [
    {
     "name": "stdout",
     "output_type": "stream",
     "text": [
      "Model: \"sequential\"\n",
      "_________________________________________________________________\n",
      " Layer (type)                Output Shape              Param #   \n",
      "=================================================================\n",
      " dense (Dense)               (None, 25)                525       \n",
      "                                                                 \n",
      " dense_1 (Dense)             (None, 26)                676       \n",
      "                                                                 \n",
      " dense_2 (Dense)             (None, 26)                702       \n",
      "                                                                 \n",
      " dense_3 (Dense)             (None, 20)                540       \n",
      "                                                                 \n",
      "=================================================================\n",
      "Total params: 2,443\n",
      "Trainable params: 2,443\n",
      "Non-trainable params: 0\n",
      "_________________________________________________________________\n"
     ]
    }
   ],
   "source": [
    "model = keras.models.Sequential()\n",
    "\n",
    "#Encoder\n",
    "model.add(keras.layers.InputLayer(input_shape=20))\n",
    "model.add(keras.layers.Dense(25, activation='relu'))\n",
    "model.add(keras.layers.Dense(26, activation='relu'))\n",
    "\n",
    "#Decoder\n",
    "model.add(keras.layers.Dense(26, activation='relu'))\n",
    "model.add(keras.layers.Dense(20, activation=None))\n",
    "\n",
    "model.summary()"
   ]
  },
  {
   "cell_type": "code",
   "execution_count": 19,
   "metadata": {},
   "outputs": [],
   "source": [
    "adam = keras.optimizers.Adam(learning_rate=0.001)\n",
    "\n",
    "\n",
    "model.compile(loss='mse', optimizer='Nadam', metrics=['mean_squared_error'])"
   ]
  },
  {
   "cell_type": "code",
   "execution_count": 20,
   "metadata": {},
   "outputs": [],
   "source": [
    "from tensorflow.keras.callbacks import EarlyStopping\n",
    "\n",
    "earlystop = EarlyStopping(monitor='val_loss', patience=5, verbose=1, mode='auto')\n",
    "\n",
    "callback = [earlystop]"
   ]
  },
  {
   "cell_type": "code",
   "execution_count": 21,
   "metadata": {},
   "outputs": [
    {
     "name": "stdout",
     "output_type": "stream",
     "text": [
      "Epoch 1/100\n",
      "15/15 [==============================] - 1s 9ms/step - loss: 0.6947 - mean_squared_error: 0.6947 - val_loss: 0.6208 - val_mean_squared_error: 0.6208\n",
      "Epoch 2/100\n",
      "15/15 [==============================] - 0s 3ms/step - loss: 0.5824 - mean_squared_error: 0.5824 - val_loss: 0.5451 - val_mean_squared_error: 0.5451\n",
      "Epoch 3/100\n",
      "15/15 [==============================] - 0s 3ms/step - loss: 0.5231 - mean_squared_error: 0.5231 - val_loss: 0.4988 - val_mean_squared_error: 0.4988\n",
      "Epoch 4/100\n",
      "15/15 [==============================] - 0s 4ms/step - loss: 0.4794 - mean_squared_error: 0.4794 - val_loss: 0.4557 - val_mean_squared_error: 0.4557\n",
      "Epoch 5/100\n",
      "15/15 [==============================] - 0s 6ms/step - loss: 0.4349 - mean_squared_error: 0.4349 - val_loss: 0.4097 - val_mean_squared_error: 0.4097\n",
      "Epoch 6/100\n",
      "15/15 [==============================] - 0s 3ms/step - loss: 0.3881 - mean_squared_error: 0.3881 - val_loss: 0.3622 - val_mean_squared_error: 0.3622\n",
      "Epoch 7/100\n",
      "15/15 [==============================] - 0s 4ms/step - loss: 0.3416 - mean_squared_error: 0.3416 - val_loss: 0.3187 - val_mean_squared_error: 0.3187\n",
      "Epoch 8/100\n",
      "15/15 [==============================] - 0s 3ms/step - loss: 0.3009 - mean_squared_error: 0.3009 - val_loss: 0.2795 - val_mean_squared_error: 0.2795\n",
      "Epoch 9/100\n",
      "15/15 [==============================] - 0s 3ms/step - loss: 0.2643 - mean_squared_error: 0.2643 - val_loss: 0.2453 - val_mean_squared_error: 0.2453\n",
      "Epoch 10/100\n",
      "15/15 [==============================] - 0s 4ms/step - loss: 0.2318 - mean_squared_error: 0.2318 - val_loss: 0.2147 - val_mean_squared_error: 0.2147\n",
      "Epoch 11/100\n",
      "15/15 [==============================] - 0s 3ms/step - loss: 0.2028 - mean_squared_error: 0.2028 - val_loss: 0.1883 - val_mean_squared_error: 0.1883\n",
      "Epoch 12/100\n",
      "15/15 [==============================] - 0s 3ms/step - loss: 0.1786 - mean_squared_error: 0.1786 - val_loss: 0.1662 - val_mean_squared_error: 0.1662\n",
      "Epoch 13/100\n",
      "15/15 [==============================] - 0s 4ms/step - loss: 0.1582 - mean_squared_error: 0.1582 - val_loss: 0.1482 - val_mean_squared_error: 0.1482\n",
      "Epoch 14/100\n",
      "15/15 [==============================] - 0s 3ms/step - loss: 0.1417 - mean_squared_error: 0.1417 - val_loss: 0.1328 - val_mean_squared_error: 0.1328\n",
      "Epoch 15/100\n",
      "15/15 [==============================] - 0s 3ms/step - loss: 0.1274 - mean_squared_error: 0.1274 - val_loss: 0.1200 - val_mean_squared_error: 0.1200\n",
      "Epoch 16/100\n",
      "15/15 [==============================] - 0s 4ms/step - loss: 0.1152 - mean_squared_error: 0.1152 - val_loss: 0.1092 - val_mean_squared_error: 0.1092\n",
      "Epoch 17/100\n",
      "15/15 [==============================] - 0s 4ms/step - loss: 0.1047 - mean_squared_error: 0.1047 - val_loss: 0.0993 - val_mean_squared_error: 0.0993\n",
      "Epoch 18/100\n",
      "15/15 [==============================] - 0s 3ms/step - loss: 0.0956 - mean_squared_error: 0.0956 - val_loss: 0.0908 - val_mean_squared_error: 0.0908\n",
      "Epoch 19/100\n",
      "15/15 [==============================] - 0s 3ms/step - loss: 0.0876 - mean_squared_error: 0.0876 - val_loss: 0.0835 - val_mean_squared_error: 0.0835\n",
      "Epoch 20/100\n",
      "15/15 [==============================] - 0s 3ms/step - loss: 0.0808 - mean_squared_error: 0.0808 - val_loss: 0.0768 - val_mean_squared_error: 0.0768\n",
      "Epoch 21/100\n",
      "15/15 [==============================] - 0s 4ms/step - loss: 0.0744 - mean_squared_error: 0.0744 - val_loss: 0.0708 - val_mean_squared_error: 0.0708\n",
      "Epoch 22/100\n",
      "15/15 [==============================] - 0s 6ms/step - loss: 0.0684 - mean_squared_error: 0.0684 - val_loss: 0.0649 - val_mean_squared_error: 0.0649\n",
      "Epoch 23/100\n",
      "15/15 [==============================] - 0s 5ms/step - loss: 0.0627 - mean_squared_error: 0.0627 - val_loss: 0.0593 - val_mean_squared_error: 0.0593\n",
      "Epoch 24/100\n",
      "15/15 [==============================] - 0s 4ms/step - loss: 0.0574 - mean_squared_error: 0.0574 - val_loss: 0.0543 - val_mean_squared_error: 0.0543\n",
      "Epoch 25/100\n",
      "15/15 [==============================] - 0s 4ms/step - loss: 0.0528 - mean_squared_error: 0.0528 - val_loss: 0.0500 - val_mean_squared_error: 0.0500\n",
      "Epoch 26/100\n",
      "15/15 [==============================] - 0s 4ms/step - loss: 0.0486 - mean_squared_error: 0.0486 - val_loss: 0.0462 - val_mean_squared_error: 0.0462\n",
      "Epoch 27/100\n",
      "15/15 [==============================] - 0s 5ms/step - loss: 0.0450 - mean_squared_error: 0.0450 - val_loss: 0.0430 - val_mean_squared_error: 0.0430\n",
      "Epoch 28/100\n",
      "15/15 [==============================] - 0s 3ms/step - loss: 0.0420 - mean_squared_error: 0.0420 - val_loss: 0.0402 - val_mean_squared_error: 0.0402\n",
      "Epoch 29/100\n",
      "15/15 [==============================] - 0s 3ms/step - loss: 0.0393 - mean_squared_error: 0.0393 - val_loss: 0.0377 - val_mean_squared_error: 0.0377\n",
      "Epoch 30/100\n",
      "15/15 [==============================] - 0s 5ms/step - loss: 0.0369 - mean_squared_error: 0.0369 - val_loss: 0.0355 - val_mean_squared_error: 0.0355\n",
      "Epoch 31/100\n",
      "15/15 [==============================] - 0s 3ms/step - loss: 0.0348 - mean_squared_error: 0.0348 - val_loss: 0.0334 - val_mean_squared_error: 0.0334\n",
      "Epoch 32/100\n",
      "15/15 [==============================] - 0s 4ms/step - loss: 0.0328 - mean_squared_error: 0.0328 - val_loss: 0.0316 - val_mean_squared_error: 0.0316\n",
      "Epoch 33/100\n",
      "15/15 [==============================] - 0s 4ms/step - loss: 0.0309 - mean_squared_error: 0.0309 - val_loss: 0.0300 - val_mean_squared_error: 0.0300\n",
      "Epoch 34/100\n",
      "15/15 [==============================] - 0s 3ms/step - loss: 0.0293 - mean_squared_error: 0.0293 - val_loss: 0.0281 - val_mean_squared_error: 0.0281\n",
      "Epoch 35/100\n",
      "15/15 [==============================] - 0s 3ms/step - loss: 0.0275 - mean_squared_error: 0.0275 - val_loss: 0.0267 - val_mean_squared_error: 0.0267\n",
      "Epoch 36/100\n",
      "15/15 [==============================] - 0s 5ms/step - loss: 0.0260 - mean_squared_error: 0.0260 - val_loss: 0.0250 - val_mean_squared_error: 0.0250\n",
      "Epoch 37/100\n",
      "15/15 [==============================] - 0s 3ms/step - loss: 0.0246 - mean_squared_error: 0.0246 - val_loss: 0.0236 - val_mean_squared_error: 0.0236\n",
      "Epoch 38/100\n",
      "15/15 [==============================] - 0s 5ms/step - loss: 0.0232 - mean_squared_error: 0.0232 - val_loss: 0.0223 - val_mean_squared_error: 0.0223\n",
      "Epoch 39/100\n",
      "15/15 [==============================] - 0s 4ms/step - loss: 0.0218 - mean_squared_error: 0.0218 - val_loss: 0.0209 - val_mean_squared_error: 0.0209\n",
      "Epoch 40/100\n",
      "15/15 [==============================] - 0s 4ms/step - loss: 0.0205 - mean_squared_error: 0.0205 - val_loss: 0.0196 - val_mean_squared_error: 0.0196\n",
      "Epoch 41/100\n",
      "15/15 [==============================] - 0s 5ms/step - loss: 0.0192 - mean_squared_error: 0.0192 - val_loss: 0.0185 - val_mean_squared_error: 0.0185\n",
      "Epoch 42/100\n",
      "15/15 [==============================] - 0s 5ms/step - loss: 0.0181 - mean_squared_error: 0.0181 - val_loss: 0.0173 - val_mean_squared_error: 0.0173\n",
      "Epoch 43/100\n",
      "15/15 [==============================] - 0s 4ms/step - loss: 0.0170 - mean_squared_error: 0.0170 - val_loss: 0.0164 - val_mean_squared_error: 0.0164\n",
      "Epoch 44/100\n",
      "15/15 [==============================] - 0s 3ms/step - loss: 0.0159 - mean_squared_error: 0.0159 - val_loss: 0.0153 - val_mean_squared_error: 0.0153\n",
      "Epoch 45/100\n",
      "15/15 [==============================] - 0s 4ms/step - loss: 0.0150 - mean_squared_error: 0.0150 - val_loss: 0.0143 - val_mean_squared_error: 0.0143\n",
      "Epoch 46/100\n",
      "15/15 [==============================] - 0s 4ms/step - loss: 0.0141 - mean_squared_error: 0.0141 - val_loss: 0.0135 - val_mean_squared_error: 0.0135\n",
      "Epoch 47/100\n",
      "15/15 [==============================] - 0s 3ms/step - loss: 0.0133 - mean_squared_error: 0.0133 - val_loss: 0.0128 - val_mean_squared_error: 0.0128\n",
      "Epoch 48/100\n",
      "15/15 [==============================] - 0s 3ms/step - loss: 0.0125 - mean_squared_error: 0.0125 - val_loss: 0.0121 - val_mean_squared_error: 0.0121\n",
      "Epoch 49/100\n",
      "15/15 [==============================] - 0s 4ms/step - loss: 0.0118 - mean_squared_error: 0.0118 - val_loss: 0.0114 - val_mean_squared_error: 0.0114\n",
      "Epoch 50/100\n",
      "15/15 [==============================] - 0s 5ms/step - loss: 0.0112 - mean_squared_error: 0.0112 - val_loss: 0.0108 - val_mean_squared_error: 0.0108\n",
      "Epoch 51/100\n"
     ]
    },
    {
     "name": "stdout",
     "output_type": "stream",
     "text": [
      "15/15 [==============================] - 0s 3ms/step - loss: 0.0106 - mean_squared_error: 0.0106 - val_loss: 0.0101 - val_mean_squared_error: 0.0101\n",
      "Epoch 52/100\n",
      "15/15 [==============================] - 0s 5ms/step - loss: 0.0100 - mean_squared_error: 0.0100 - val_loss: 0.0097 - val_mean_squared_error: 0.0097\n",
      "Epoch 53/100\n",
      "15/15 [==============================] - 0s 4ms/step - loss: 0.0095 - mean_squared_error: 0.0095 - val_loss: 0.0091 - val_mean_squared_error: 0.0091\n",
      "Epoch 54/100\n",
      "15/15 [==============================] - 0s 5ms/step - loss: 0.0089 - mean_squared_error: 0.0089 - val_loss: 0.0086 - val_mean_squared_error: 0.0086\n",
      "Epoch 55/100\n",
      "15/15 [==============================] - 0s 5ms/step - loss: 0.0084 - mean_squared_error: 0.0084 - val_loss: 0.0081 - val_mean_squared_error: 0.0081\n",
      "Epoch 56/100\n",
      "15/15 [==============================] - 0s 4ms/step - loss: 0.0080 - mean_squared_error: 0.0080 - val_loss: 0.0076 - val_mean_squared_error: 0.0076\n",
      "Epoch 57/100\n",
      "15/15 [==============================] - 0s 3ms/step - loss: 0.0075 - mean_squared_error: 0.0075 - val_loss: 0.0072 - val_mean_squared_error: 0.0072\n",
      "Epoch 58/100\n",
      "15/15 [==============================] - 0s 4ms/step - loss: 0.0071 - mean_squared_error: 0.0071 - val_loss: 0.0069 - val_mean_squared_error: 0.0069\n",
      "Epoch 59/100\n",
      "15/15 [==============================] - 0s 3ms/step - loss: 0.0068 - mean_squared_error: 0.0068 - val_loss: 0.0065 - val_mean_squared_error: 0.0065\n",
      "Epoch 60/100\n",
      "15/15 [==============================] - 0s 3ms/step - loss: 0.0064 - mean_squared_error: 0.0064 - val_loss: 0.0063 - val_mean_squared_error: 0.0063\n",
      "Epoch 61/100\n",
      "15/15 [==============================] - 0s 3ms/step - loss: 0.0061 - mean_squared_error: 0.0061 - val_loss: 0.0059 - val_mean_squared_error: 0.0059\n",
      "Epoch 62/100\n",
      "15/15 [==============================] - 0s 3ms/step - loss: 0.0059 - mean_squared_error: 0.0059 - val_loss: 0.0056 - val_mean_squared_error: 0.0056\n",
      "Epoch 63/100\n",
      "15/15 [==============================] - 0s 3ms/step - loss: 0.0056 - mean_squared_error: 0.0056 - val_loss: 0.0054 - val_mean_squared_error: 0.0054\n",
      "Epoch 64/100\n",
      "15/15 [==============================] - 0s 4ms/step - loss: 0.0053 - mean_squared_error: 0.0053 - val_loss: 0.0051 - val_mean_squared_error: 0.0051\n",
      "Epoch 65/100\n",
      "15/15 [==============================] - 0s 3ms/step - loss: 0.0051 - mean_squared_error: 0.0051 - val_loss: 0.0050 - val_mean_squared_error: 0.0050\n",
      "Epoch 66/100\n",
      "15/15 [==============================] - 0s 3ms/step - loss: 0.0049 - mean_squared_error: 0.0049 - val_loss: 0.0047 - val_mean_squared_error: 0.0047\n",
      "Epoch 67/100\n",
      "15/15 [==============================] - 0s 5ms/step - loss: 0.0047 - mean_squared_error: 0.0047 - val_loss: 0.0045 - val_mean_squared_error: 0.0045\n",
      "Epoch 68/100\n",
      "15/15 [==============================] - 0s 4ms/step - loss: 0.0045 - mean_squared_error: 0.0045 - val_loss: 0.0045 - val_mean_squared_error: 0.0045\n",
      "Epoch 69/100\n",
      "15/15 [==============================] - 0s 3ms/step - loss: 0.0043 - mean_squared_error: 0.0043 - val_loss: 0.0042 - val_mean_squared_error: 0.0042\n",
      "Epoch 70/100\n",
      "15/15 [==============================] - 0s 4ms/step - loss: 0.0041 - mean_squared_error: 0.0041 - val_loss: 0.0040 - val_mean_squared_error: 0.0040\n",
      "Epoch 71/100\n",
      "15/15 [==============================] - 0s 3ms/step - loss: 0.0040 - mean_squared_error: 0.0040 - val_loss: 0.0038 - val_mean_squared_error: 0.0038\n",
      "Epoch 72/100\n",
      "15/15 [==============================] - 0s 3ms/step - loss: 0.0038 - mean_squared_error: 0.0038 - val_loss: 0.0037 - val_mean_squared_error: 0.0037\n",
      "Epoch 73/100\n",
      "15/15 [==============================] - 0s 3ms/step - loss: 0.0037 - mean_squared_error: 0.0037 - val_loss: 0.0037 - val_mean_squared_error: 0.0037\n",
      "Epoch 74/100\n",
      "15/15 [==============================] - 0s 4ms/step - loss: 0.0036 - mean_squared_error: 0.0036 - val_loss: 0.0034 - val_mean_squared_error: 0.0034\n",
      "Epoch 75/100\n",
      "15/15 [==============================] - 0s 3ms/step - loss: 0.0034 - mean_squared_error: 0.0034 - val_loss: 0.0033 - val_mean_squared_error: 0.0033\n",
      "Epoch 76/100\n",
      "15/15 [==============================] - 0s 3ms/step - loss: 0.0033 - mean_squared_error: 0.0033 - val_loss: 0.0033 - val_mean_squared_error: 0.0033\n",
      "Epoch 77/100\n",
      "15/15 [==============================] - 0s 4ms/step - loss: 0.0032 - mean_squared_error: 0.0032 - val_loss: 0.0031 - val_mean_squared_error: 0.0031\n",
      "Epoch 78/100\n",
      "15/15 [==============================] - 0s 3ms/step - loss: 0.0031 - mean_squared_error: 0.0031 - val_loss: 0.0030 - val_mean_squared_error: 0.0030\n",
      "Epoch 79/100\n",
      "15/15 [==============================] - 0s 3ms/step - loss: 0.0029 - mean_squared_error: 0.0029 - val_loss: 0.0029 - val_mean_squared_error: 0.0029\n",
      "Epoch 80/100\n",
      "15/15 [==============================] - 0s 3ms/step - loss: 0.0028 - mean_squared_error: 0.0028 - val_loss: 0.0028 - val_mean_squared_error: 0.0028\n",
      "Epoch 81/100\n",
      "15/15 [==============================] - 0s 3ms/step - loss: 0.0028 - mean_squared_error: 0.0028 - val_loss: 0.0028 - val_mean_squared_error: 0.0028\n",
      "Epoch 82/100\n",
      "15/15 [==============================] - 0s 4ms/step - loss: 0.0027 - mean_squared_error: 0.0027 - val_loss: 0.0026 - val_mean_squared_error: 0.0026\n",
      "Epoch 83/100\n",
      "15/15 [==============================] - 0s 3ms/step - loss: 0.0026 - mean_squared_error: 0.0026 - val_loss: 0.0026 - val_mean_squared_error: 0.0026\n",
      "Epoch 84/100\n",
      "15/15 [==============================] - 0s 3ms/step - loss: 0.0026 - mean_squared_error: 0.0026 - val_loss: 0.0024 - val_mean_squared_error: 0.0024\n",
      "Epoch 85/100\n",
      "15/15 [==============================] - 0s 3ms/step - loss: 0.0024 - mean_squared_error: 0.0024 - val_loss: 0.0024 - val_mean_squared_error: 0.0024\n",
      "Epoch 86/100\n",
      "15/15 [==============================] - 0s 4ms/step - loss: 0.0023 - mean_squared_error: 0.0023 - val_loss: 0.0024 - val_mean_squared_error: 0.0024\n",
      "Epoch 87/100\n",
      "15/15 [==============================] - 0s 3ms/step - loss: 0.0023 - mean_squared_error: 0.0023 - val_loss: 0.0024 - val_mean_squared_error: 0.0024\n",
      "Epoch 88/100\n",
      "15/15 [==============================] - 0s 4ms/step - loss: 0.0022 - mean_squared_error: 0.0022 - val_loss: 0.0022 - val_mean_squared_error: 0.0022\n",
      "Epoch 89/100\n",
      "15/15 [==============================] - 0s 3ms/step - loss: 0.0023 - mean_squared_error: 0.0023 - val_loss: 0.0024 - val_mean_squared_error: 0.0024\n",
      "Epoch 90/100\n",
      "15/15 [==============================] - 0s 3ms/step - loss: 0.0022 - mean_squared_error: 0.0022 - val_loss: 0.0020 - val_mean_squared_error: 0.0020\n",
      "Epoch 91/100\n",
      "15/15 [==============================] - 0s 3ms/step - loss: 0.0021 - mean_squared_error: 0.0021 - val_loss: 0.0021 - val_mean_squared_error: 0.0021\n",
      "Epoch 92/100\n",
      "15/15 [==============================] - 0s 3ms/step - loss: 0.0020 - mean_squared_error: 0.0020 - val_loss: 0.0019 - val_mean_squared_error: 0.0019\n",
      "Epoch 93/100\n",
      "15/15 [==============================] - 0s 3ms/step - loss: 0.0019 - mean_squared_error: 0.0019 - val_loss: 0.0019 - val_mean_squared_error: 0.0019\n",
      "Epoch 94/100\n",
      "15/15 [==============================] - 0s 5ms/step - loss: 0.0018 - mean_squared_error: 0.0018 - val_loss: 0.0017 - val_mean_squared_error: 0.0017\n",
      "Epoch 95/100\n",
      "15/15 [==============================] - 0s 3ms/step - loss: 0.0017 - mean_squared_error: 0.0017 - val_loss: 0.0017 - val_mean_squared_error: 0.0017\n",
      "Epoch 96/100\n",
      "15/15 [==============================] - 0s 3ms/step - loss: 0.0017 - mean_squared_error: 0.0017 - val_loss: 0.0019 - val_mean_squared_error: 0.0019\n",
      "Epoch 97/100\n",
      "15/15 [==============================] - 0s 3ms/step - loss: 0.0020 - mean_squared_error: 0.0020 - val_loss: 0.0016 - val_mean_squared_error: 0.0016\n",
      "Epoch 98/100\n",
      "15/15 [==============================] - 0s 3ms/step - loss: 0.0016 - mean_squared_error: 0.0016 - val_loss: 0.0015 - val_mean_squared_error: 0.0015\n",
      "Epoch 99/100\n",
      "15/15 [==============================] - 0s 3ms/step - loss: 0.0016 - mean_squared_error: 0.0016 - val_loss: 0.0017 - val_mean_squared_error: 0.0017\n",
      "Epoch 100/100\n",
      "15/15 [==============================] - 0s 4ms/step - loss: 0.0016 - mean_squared_error: 0.0016 - val_loss: 0.0016 - val_mean_squared_error: 0.0016\n"
     ]
    },
    {
     "data": {
      "text/plain": [
       "<keras.callbacks.History at 0x2415aa2b2e0>"
      ]
     },
     "execution_count": 21,
     "metadata": {},
     "output_type": "execute_result"
    }
   ],
   "source": [
    "\n",
    "model.fit(good_x, good_x, \n",
    "          validation_data = (good_x, good_x),\n",
    "          epochs=100, batch_size=100, callbacks=callback)"
   ]
  },
  {
   "cell_type": "markdown",
   "metadata": {},
   "source": [
    "### Check the average MSE on the \"good\" loans"
   ]
  },
  {
   "cell_type": "code",
   "execution_count": 22,
   "metadata": {},
   "outputs": [
    {
     "name": "stdout",
     "output_type": "stream",
     "text": [
      "47/47 [==============================] - 0s 1ms/step - loss: 0.0016 - mean_squared_error: 0.0016\n"
     ]
    },
    {
     "data": {
      "text/plain": [
       "[0.0015590492403134704, 0.0015590492403134704]"
      ]
     },
     "execution_count": 22,
     "metadata": {},
     "output_type": "execute_result"
    }
   ],
   "source": [
    "model.evaluate(good_x, good_x)"
   ]
  },
  {
   "cell_type": "code",
   "execution_count": 23,
   "metadata": {},
   "outputs": [
    {
     "name": "stdout",
     "output_type": "stream",
     "text": [
      "47/47 [==============================] - 0s 959us/step - loss: 0.0016 - mean_squared_error: 0.0016\n"
     ]
    },
    {
     "data": {
      "text/plain": [
       "0.15590492403134704"
      ]
     },
     "execution_count": 23,
     "metadata": {},
     "output_type": "execute_result"
    }
   ],
   "source": [
    "model.evaluate(good_x, good_x)[0]*100"
   ]
  },
  {
   "cell_type": "markdown",
   "metadata": {},
   "source": [
    "### Check the average MSE on the \"unknown\" data"
   ]
  },
  {
   "cell_type": "code",
   "execution_count": 24,
   "metadata": {},
   "outputs": [
    {
     "name": "stdout",
     "output_type": "stream",
     "text": [
      "32/32 [==============================] - 0s 1ms/step - loss: 0.0382 - mean_squared_error: 0.0382\n"
     ]
    },
    {
     "data": {
      "text/plain": [
       "[0.038192734122276306, 0.038192734122276306]"
      ]
     },
     "execution_count": 24,
     "metadata": {},
     "output_type": "execute_result"
    }
   ],
   "source": [
    "model.evaluate(unknown_x, unknown_x)"
   ]
  },
  {
   "cell_type": "code",
   "execution_count": 25,
   "metadata": {},
   "outputs": [
    {
     "name": "stdout",
     "output_type": "stream",
     "text": [
      "32/32 [==============================] - 0s 830us/step - loss: 0.0382 - mean_squared_error: 0.0382\n"
     ]
    },
    {
     "data": {
      "text/plain": [
       "3.8192734122276306"
      ]
     },
     "execution_count": 25,
     "metadata": {},
     "output_type": "execute_result"
    }
   ],
   "source": [
    "model.evaluate(unknown_x, unknown_x)[0]*100"
   ]
  },
  {
   "cell_type": "markdown",
   "metadata": {},
   "source": [
    "### Do you think the \"unknown\" loans look like good loans or not (justify your answer using the interpretation of the average MSE values)"
   ]
  },
  {
   "cell_type": "markdown",
   "metadata": {},
   "source": []
  },
  {
   "cell_type": "code",
   "execution_count": null,
   "metadata": {},
   "outputs": [],
   "source": [
    "#No, the unknown loans do not look like good loans as the mse value of unkown loans i smuch higher as compared to good loans."
   ]
  }
 ],
 "metadata": {
  "kernelspec": {
   "display_name": "Python 3 (ipykernel)",
   "language": "python",
   "name": "python3"
  },
  "language_info": {
   "codemirror_mode": {
    "name": "ipython",
    "version": 3
   },
   "file_extension": ".py",
   "mimetype": "text/x-python",
   "name": "python",
   "nbconvert_exporter": "python",
   "pygments_lexer": "ipython3",
   "version": "3.9.13"
  },
  "nav_menu": {
   "height": "279px",
   "width": "309px"
  },
  "toc": {
   "base_numbering": 1,
   "nav_menu": {},
   "number_sections": false,
   "sideBar": true,
   "skip_h1_title": false,
   "title_cell": "Table of Contents",
   "title_sidebar": "Contents",
   "toc_cell": false,
   "toc_position": {},
   "toc_section_display": "block",
   "toc_window_display": true
  }
 },
 "nbformat": 4,
 "nbformat_minor": 1
}
